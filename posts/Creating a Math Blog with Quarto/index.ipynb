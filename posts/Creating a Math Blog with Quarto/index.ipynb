{
  "cells": [
    {
      "cell_type": "raw",
      "metadata": {},
      "source": [
        "---\n",
        "title: \"How to create a Math Blog\"\n",
        "author: \"Tran Thu Le\"\n",
        "date: \"2023-10-29\"\n",
        "categories: [markdown, code, maths]\n",
        "---"
      ],
      "id": "97bc9551"
    },
    {
      "cell_type": "markdown",
      "metadata": {},
      "source": [
        "**Abstract.** This blog will show you the key words to start your own Math Blog.\n",
        "\n",
        "![](thumbnail.jpg)\n",
        "```markdown\n",
        "# This is a Level 1 Header\n",
        "\n",
        "## This is a Level 2 Header\n",
        "\n",
        "### This is a Level 3 Header\n",
        "```\n"
      ],
      "id": "b6aef3c8"
    },
    {
      "cell_type": "code",
      "metadata": {},
      "source": [
        "value = 99 * 99"
      ],
      "id": "c69f962f",
      "execution_count": null,
      "outputs": []
    },
    {
      "cell_type": "markdown",
      "metadata": {},
      "source": [
        "Python value is `r reticulate::py_eval(2+3)`.\n"
      ],
      "id": "1a03e084"
    }
  ],
  "metadata": {
    "kernelspec": {
      "name": "venv",
      "language": "python",
      "display_name": "venv"
    }
  },
  "nbformat": 4,
  "nbformat_minor": 5
}